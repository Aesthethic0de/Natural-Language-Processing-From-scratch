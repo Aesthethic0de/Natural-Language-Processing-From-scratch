{
 "cells": [
  {
   "cell_type": "code",
   "execution_count": 3,
   "metadata": {},
   "outputs": [],
   "source": [
    "import numpy as np\n",
    "\n"
   ]
  },
  {
   "cell_type": "markdown",
   "metadata": {},
   "source": [
    "yp ----> MSE equation\n",
    "\n",
    "md is partial derivative of M\n",
    "\n",
    "bd is partial derivation of b \n",
    "\n",
    "we use md and bd to find gradient Descent.\n",
    "\n"
   ]
  },
  {
   "cell_type": "code",
   "execution_count": 14,
   "metadata": {},
   "outputs": [
    {
     "name": "stdout",
     "output_type": "stream",
     "text": [
      " m : 3.1, b : 0.9, cost --- > 89.0, iteration -- > 0\n",
      "\n",
      " m : 2.52, b : 0.78, cost --- > 3.8599999999999994, iteration -- > 1\n",
      "\n",
      " m : 2.6140000000000003, b : 0.8460000000000001, cost --- > 0.9763999999999999, iteration -- > 2\n",
      "\n",
      " m : 2.5848, b : 0.8772, cost --- > 0.8513360000000004, iteration -- > 3\n",
      "\n",
      " m : 2.57836, b : 0.91404, cost --- > 0.81970064, iteration -- > 4\n",
      "\n",
      " m : 2.567952, b : 0.949128, cost --- > 0.7921173536, iteration -- > 5\n",
      "\n",
      " m : 2.5584664, b : 0.9838296, cost --- > 0.7655590528640001, iteration -- > 6\n",
      "\n",
      " m : 2.54900448, b : 1.01790672, cost --- > 0.7398944506073604, iteration -- > 7\n",
      "\n",
      " m : 2.539727536, b : 1.0514147040000001, cost --- > 0.7150903372945663, iteration -- > 8\n",
      "\n",
      " m : 2.5306028352, b : 1.0843549728000001, cost --- > 0.6911177570948888, iteration -- > 9\n",
      "\n"
     ]
    }
   ],
   "source": [
    "def gradient_Descent(x,y):\n",
    "\n",
    "    m_curr = b_curr = 0\n",
    "\n",
    "    iterations = 10\n",
    "\n",
    "    n = len(x)\n",
    "\n",
    "    learning_rate = 0.05\n",
    "\n",
    "    for i in range(iterations):\n",
    "        yp = m_curr * x + b_curr\n",
    "\n",
    "        cost = (1/n) * sum([val**2 for val in (y-yp)])\n",
    "\n",
    "        md = -(2/n) * sum(x*(y-yp))\n",
    "\n",
    "        bd = -(2/n) * sum(y-yp)\n",
    "\n",
    "\n",
    "        m_curr = m_curr - learning_rate * md\n",
    "\n",
    "        b_curr = b_curr - learning_rate * bd\n",
    "\n",
    "        print(f\" m : {m_curr}, b : {b_curr}, cost --- > {cost}, iteration -- > {i}\\n\")\n",
    "\n",
    "\n",
    "    \n",
    "\n",
    "\n",
    "\n",
    "    pass\n",
    "\n",
    "\n",
    "x = np.array([1,2,3,4,5])\n",
    "y = np.array([5,7,9,11,13])\n",
    "\n",
    "gradient_Descent(x,y)\n",
    "\n"
   ]
  },
  {
   "cell_type": "code",
   "execution_count": null,
   "metadata": {},
   "outputs": [],
   "source": []
  }
 ],
 "metadata": {
  "interpreter": {
   "hash": "76454c61be6355585534e60d1dcba7b363850a48ad25436880e911cb61d97c09"
  },
  "kernelspec": {
   "display_name": "Python 3.8.12 ('nlp')",
   "language": "python",
   "name": "python3"
  },
  "language_info": {
   "codemirror_mode": {
    "name": "ipython",
    "version": 3
   },
   "file_extension": ".py",
   "mimetype": "text/x-python",
   "name": "python",
   "nbconvert_exporter": "python",
   "pygments_lexer": "ipython3",
   "version": "3.8.12"
  },
  "orig_nbformat": 4
 },
 "nbformat": 4,
 "nbformat_minor": 2
}
